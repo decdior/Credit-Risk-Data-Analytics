{
 "cells": [
  {
   "cell_type": "code",
   "execution_count": 28,
   "id": "d30b8160",
   "metadata": {},
   "outputs": [],
   "source": [
    "import numpy as np \n",
    "import pandas as pd \n",
    "import seaborn as sns \n",
    "import matplotlib.pyplot as plt"
   ]
  },
  {
   "cell_type": "code",
   "execution_count": 29,
   "id": "8cf26ade",
   "metadata": {},
   "outputs": [],
   "source": [
    "cd_full = pd.read_excel('D:/Credit data.xlsx')"
   ]
  },
  {
   "cell_type": "code",
   "execution_count": 30,
   "id": "33899434",
   "metadata": {},
   "outputs": [],
   "source": [
    "cd_full.drop_duplicates(inplace=True)\n",
    "cd_full.index = range(cd_full.shape[0])\n",
    "cd_full[\"NumberOfDependents\"].fillna(int(cd_full[\"NumberOfDependents\"].mode()),inplace=True)\n",
    "cd_full.index = range(cd_full.shape[0])"
   ]
  },
  {
   "cell_type": "code",
   "execution_count": 31,
   "id": "6e4b4bae",
   "metadata": {},
   "outputs": [],
   "source": [
    "def fill_missing_rf(X,y,to_fill):\n",
    "    \"\"\"\n",
    "    使用随机森林填补一个特征的缺失值的函数\n",
    "    参数：\n",
    "    X：要填补的特征矩阵\n",
    "    y：完整的，没有缺失值的标签\n",
    "    to_fill：字符串，要填补的那一列的名称\n",
    "    \"\"\"\n",
    "    #构建我们的新特征矩阵和新标签\n",
    "    df = X.copy()\n",
    "    fill = df.loc[:,to_fill]\n",
    "    df = pd.concat([df.loc[:,df.columns != to_fill],pd.DataFrame(y)],axis=1)\n",
    "    #找出我们的训练集和测试集\n",
    "    Ytrain = fill[fill.notnull()]\n",
    "    Ytest = fill[fill.isnull()]\n",
    "    Xtrain = df.iloc[Ytrain.index,:]\n",
    "    Xtest = df.iloc[Ytest.index,:]\n",
    "    #用随机森林回归来填补缺失值\n",
    "    from sklearn.ensemble import RandomForestRegressor as rfr\n",
    "    rfr = rfr(n_estimators=1000)\n",
    "    rfr = rfr.fit(Xtrain, Ytrain)\n",
    "    Ypredict = rfr.predict(Xtest)\n",
    "    return Ypredict"
   ]
  },
  {
   "cell_type": "code",
   "execution_count": 32,
   "id": "a01a3f09",
   "metadata": {},
   "outputs": [],
   "source": [
    "X = cd_full.iloc[:,1:]\n",
    "y = cd_full[\"SeriousDlqin2yrs\"]\n",
    "y_pred = fill_missing_rf(X,y,\"MonthlyIncome\")\n",
    "cd_full.loc[cd_full.loc[:,\"MonthlyIncome\"].isnull(),\"MonthlyIncome\"] = y_pred"
   ]
  },
  {
   "cell_type": "code",
   "execution_count": 33,
   "id": "75c71b7f",
   "metadata": {},
   "outputs": [
    {
     "name": "stdout",
     "output_type": "stream",
     "text": [
      "<class 'pandas.core.frame.DataFrame'>\n",
      "RangeIndex: 9996 entries, 0 to 9995\n",
      "Data columns (total 11 columns):\n",
      " #   Column                                Non-Null Count  Dtype  \n",
      "---  ------                                --------------  -----  \n",
      " 0   SeriousDlqin2yrs                      9996 non-null   int64  \n",
      " 1   RevolvingUtilizationOfUnsecuredLines  9996 non-null   float64\n",
      " 2   age                                   9996 non-null   int64  \n",
      " 3   NumberOfTime30-59DaysPastDueNotWorse  9996 non-null   int64  \n",
      " 4   DebtRatio                             9996 non-null   float64\n",
      " 5   MonthlyIncome                         9996 non-null   float64\n",
      " 6   NumberOfOpenCreditLinesAndLoans       9996 non-null   int64  \n",
      " 7   NumberOfTimes90DaysLate               9996 non-null   int64  \n",
      " 8   NumberRealEstateLoansOrLines          9996 non-null   int64  \n",
      " 9   NumberOfTime60-89DaysPastDueNotWorse  9996 non-null   int64  \n",
      " 10  NumberOfDependents                    9996 non-null   float64\n",
      "dtypes: float64(4), int64(7)\n",
      "memory usage: 859.2 KB\n"
     ]
    }
   ],
   "source": [
    "cd_full.index = range(cd_full.shape[0])\n",
    "cd_full=cd_full\n",
    "cd_full.info()"
   ]
  },
  {
   "cell_type": "code",
   "execution_count": 34,
   "id": "81253c06",
   "metadata": {},
   "outputs": [
    {
     "name": "stdout",
     "output_type": "stream",
     "text": [
      "<class 'pandas.core.frame.DataFrame'>\n",
      "RangeIndex: 7923 entries, 0 to 7922\n",
      "Data columns (total 11 columns):\n",
      " #   Column                                Non-Null Count  Dtype  \n",
      "---  ------                                --------------  -----  \n",
      " 0   SeriousDlqin2yrs                      7923 non-null   int64  \n",
      " 1   RevolvingUtilizationOfUnsecuredLines  7923 non-null   float64\n",
      " 2   age                                   7923 non-null   int64  \n",
      " 3   NumberOfTime30-59DaysPastDueNotWorse  7923 non-null   int64  \n",
      " 4   DebtRatio                             7923 non-null   float64\n",
      " 5   MonthlyIncome                         7923 non-null   float64\n",
      " 6   NumberOfOpenCreditLinesAndLoans       7923 non-null   int64  \n",
      " 7   NumberOfTimes90DaysLate               7923 non-null   int64  \n",
      " 8   NumberRealEstateLoansOrLines          7923 non-null   int64  \n",
      " 9   NumberOfTime60-89DaysPastDueNotWorse  7923 non-null   int64  \n",
      " 10  NumberOfDependents                    7923 non-null   float64\n",
      "dtypes: float64(4), int64(7)\n",
      "memory usage: 681.0 KB\n"
     ]
    }
   ],
   "source": [
    "cd_full.index = range(cd_full.shape[0])\n",
    "def data_deal(cd_full):\n",
    "    cd_full=cd_full[cd_full['RevolvingUtilizationOfUnsecuredLines']<=2]\n",
    "    cd_full=cd_full[(cd_full['age']>=0)&(cd_full['age']<=100)]\n",
    "    cd_full=cd_full[cd_full['NumberOfTime30-59DaysPastDueNotWorse']<24]\n",
    "    cd_full=cd_full[cd_full['NumberOfTime60-89DaysPastDueNotWorse']<12]\n",
    "    cd_full=cd_full[cd_full['NumberOfTimes90DaysLate']<8]\n",
    "    cd_full=cd_full[cd_full['DebtRatio']<=2]\n",
    "    cd_full=cd_full[cd_full['NumberOfDependents']<20]\n",
    "    return cd_full\n",
    "    \n",
    "cd_full = data_deal(cd_full)\n",
    "cd_full.index = range(cd_full.shape[0])\n",
    "cd_full.info()"
   ]
  },
  {
   "cell_type": "code",
   "execution_count": 35,
   "id": "8553eb37",
   "metadata": {},
   "outputs": [
    {
     "name": "stdout",
     "output_type": "stream",
     "text": [
      "(7923, 10) (7923,)\n"
     ]
    }
   ],
   "source": [
    "X = cd_full.iloc[:, 1:]\n",
    "y = cd_full[\"SeriousDlqin2yrs\"].values\n",
    "print (X.shape, y.shape)"
   ]
  },
  {
   "cell_type": "code",
   "execution_count": 36,
   "id": "b74a3082",
   "metadata": {},
   "outputs": [
    {
     "name": "stdout",
     "output_type": "stream",
     "text": [
      "<class 'pandas.core.frame.DataFrame'>\n",
      "RangeIndex: 7923 entries, 0 to 7922\n",
      "Data columns (total 10 columns):\n",
      " #   Column                                Non-Null Count  Dtype  \n",
      "---  ------                                --------------  -----  \n",
      " 0   RevolvingUtilizationOfUnsecuredLines  7923 non-null   float64\n",
      " 1   age                                   7923 non-null   int64  \n",
      " 2   NumberOfTime30-59DaysPastDueNotWorse  7923 non-null   int64  \n",
      " 3   DebtRatio                             7923 non-null   float64\n",
      " 4   MonthlyIncome                         7923 non-null   float64\n",
      " 5   NumberOfOpenCreditLinesAndLoans       7923 non-null   int64  \n",
      " 6   NumberOfTimes90DaysLate               7923 non-null   int64  \n",
      " 7   NumberRealEstateLoansOrLines          7923 non-null   int64  \n",
      " 8   NumberOfTime60-89DaysPastDueNotWorse  7923 non-null   int64  \n",
      " 9   NumberOfDependents                    7923 non-null   float64\n",
      "dtypes: float64(4), int64(6)\n",
      "memory usage: 619.1 KB\n"
     ]
    },
    {
     "ename": "AttributeError",
     "evalue": "'numpy.ndarray' object has no attribute 'info'",
     "output_type": "error",
     "traceback": [
      "\u001b[1;31m---------------------------------------------------------------------------\u001b[0m",
      "\u001b[1;31mAttributeError\u001b[0m                            Traceback (most recent call last)",
      "Input \u001b[1;32mIn [36]\u001b[0m, in \u001b[0;36m<cell line: 2>\u001b[1;34m()\u001b[0m\n\u001b[0;32m      1\u001b[0m X\u001b[38;5;241m.\u001b[39minfo()\n\u001b[1;32m----> 2\u001b[0m \u001b[43my\u001b[49m\u001b[38;5;241;43m.\u001b[39;49m\u001b[43minfo\u001b[49m()\n",
      "\u001b[1;31mAttributeError\u001b[0m: 'numpy.ndarray' object has no attribute 'info'"
     ]
    }
   ],
   "source": [
    "X.info()\n",
    "y.info()"
   ]
  },
  {
   "cell_type": "code",
   "execution_count": 37,
   "id": "242b68d6",
   "metadata": {},
   "outputs": [
    {
     "name": "stdout",
     "output_type": "stream",
     "text": [
      "<class 'pandas.core.frame.DataFrame'>\n",
      "RangeIndex: 5546 entries, 0 to 5545\n",
      "Data columns (total 11 columns):\n",
      " #   Column                                Non-Null Count  Dtype  \n",
      "---  ------                                --------------  -----  \n",
      " 0   SeriousDlqin2yrs                      5546 non-null   int64  \n",
      " 1   RevolvingUtilizationOfUnsecuredLines  5546 non-null   float64\n",
      " 2   age                                   5546 non-null   int64  \n",
      " 3   NumberOfTime30-59DaysPastDueNotWorse  5546 non-null   int64  \n",
      " 4   DebtRatio                             5546 non-null   float64\n",
      " 5   MonthlyIncome                         5546 non-null   float64\n",
      " 6   NumberOfOpenCreditLinesAndLoans       5546 non-null   int64  \n",
      " 7   NumberOfTimes90DaysLate               5546 non-null   int64  \n",
      " 8   NumberRealEstateLoansOrLines          5546 non-null   int64  \n",
      " 9   NumberOfTime60-89DaysPastDueNotWorse  5546 non-null   int64  \n",
      " 10  NumberOfDependents                    5546 non-null   float64\n",
      "dtypes: float64(4), int64(7)\n",
      "memory usage: 476.7 KB\n",
      "<class 'pandas.core.frame.DataFrame'>\n",
      "RangeIndex: 2377 entries, 0 to 2376\n",
      "Data columns (total 11 columns):\n",
      " #   Column                                Non-Null Count  Dtype  \n",
      "---  ------                                --------------  -----  \n",
      " 0   SeriousDlqin2yrs                      2377 non-null   int64  \n",
      " 1   RevolvingUtilizationOfUnsecuredLines  2377 non-null   float64\n",
      " 2   age                                   2377 non-null   int64  \n",
      " 3   NumberOfTime30-59DaysPastDueNotWorse  2377 non-null   int64  \n",
      " 4   DebtRatio                             2377 non-null   float64\n",
      " 5   MonthlyIncome                         2377 non-null   float64\n",
      " 6   NumberOfOpenCreditLinesAndLoans       2377 non-null   int64  \n",
      " 7   NumberOfTimes90DaysLate               2377 non-null   int64  \n",
      " 8   NumberRealEstateLoansOrLines          2377 non-null   int64  \n",
      " 9   NumberOfTime60-89DaysPastDueNotWorse  2377 non-null   int64  \n",
      " 10  NumberOfDependents                    2377 non-null   float64\n",
      "dtypes: float64(4), int64(7)\n",
      "memory usage: 204.4 KB\n"
     ]
    },
    {
     "data": {
      "text/plain": [
       "(None, None)"
      ]
     },
     "execution_count": 37,
     "metadata": {},
     "output_type": "execute_result"
    }
   ],
   "source": [
    "from sklearn.model_selection import train_test_split\n",
    "X = pd.DataFrame(X)\n",
    "y = pd.DataFrame(y)\n",
    "\n",
    "X_train, X_test, Y_train, Y_test = train_test_split(X,y,test_size=0.3,random_state=420)\n",
    "\n",
    "model_data = pd.concat([Y_train, X_train], axis=1)\n",
    "model_data.index = range(model_data.shape[0])\n",
    "\n",
    "model_data.columns = cd_full.columns\n",
    "test_data = pd.concat([Y_test, X_test], axis=1)\n",
    "test_data.index = range(vali_data.shape[0])\n",
    "test_data.columns = cd_full.columns\n",
    "model_data.info(),test_data.info()"
   ]
  },
  {
   "cell_type": "code",
   "execution_count": 38,
   "id": "260acea8",
   "metadata": {},
   "outputs": [],
   "source": [
    "model_data.to_csv(r\"model_data.csv\")\n",
    "vali_data.to_csv(r\"vali_data.csv\")"
   ]
  },
  {
   "cell_type": "code",
   "execution_count": 39,
   "id": "6cd98c6e",
   "metadata": {},
   "outputs": [
    {
     "name": "stdout",
     "output_type": "stream",
     "text": [
      "(5546, 10) (5546,) (2377, 10)\n",
      "[3.32557268e-01 5.14049766e+01 2.61269383e-01 3.42942781e-01\n",
      " 6.81488163e+03 8.62657771e+00 9.06959971e-02 1.04056978e+00\n",
      " 6.52722683e-02 8.27984133e-01] \n",
      "--------------------------------------------------\n",
      " [3.51661714e-01 1.44927978e+01 7.22920892e-01 3.00913776e-01\n",
      " 7.37249745e+03 5.10961071e+00 4.44418832e-01 1.10009931e+00\n",
      " 3.22374954e-01 1.15464043e+00]\n",
      "==========\n",
      "[3.38672509e-01 5.13824148e+01 2.58729491e-01 3.36302592e-01\n",
      " 6.51092762e+03 8.60748843e+00 9.46571308e-02 9.97896508e-01\n",
      " 6.85738326e-02 7.91333614e-01] \n",
      "--------------------------------------------------\n",
      " [3.57441271e-01 1.43609838e+01 7.53028205e-01 2.89006826e-01\n",
      " 5.09365763e+03 5.10770767e+00 4.46414287e-01 1.05047007e+00\n",
      " 3.25486249e-01 1.09200280e+00]\n"
     ]
    }
   ],
   "source": [
    "#归一化\n",
    "from sklearn import preprocessing\n",
    "x_train=model_data.iloc[:, 1:]\n",
    "y_train = model_data['SeriousDlqin2yrs'].values\n",
    "x_test = test_data.iloc[:, 1:].values\n",
    "print (x_train.shape, y_train.shape, x_test.shape)\n",
    "\n",
    "\n",
    "train_scaler = preprocessing.StandardScaler().fit(x_train)\n",
    "print( train_scaler.mean_ , '\\n'+'-'*50+'\\n', train_scaler.scale_)\n",
    "print('='*10)\n",
    "test_scaler = preprocessing.StandardScaler().fit(x_test)\n",
    "print( test_scaler.mean_ , '\\n'+'-'*50+'\\n', test_scaler.scale_)"
   ]
  },
  {
   "cell_type": "code",
   "execution_count": 40,
   "id": "a3ecab37",
   "metadata": {},
   "outputs": [
    {
     "data": {
      "text/plain": [
       "(array([ 1.58225799e-16,  1.70397014e-16, -4.48413194e-17,  1.26196285e-16,\n",
       "        -8.90420486e-17, -6.14966666e-17,  8.96826388e-18,  6.79025694e-17,\n",
       "        -3.58730555e-17, -7.68708333e-17]),\n",
       " array([1., 1., 1., 1., 1., 1., 1., 1., 1., 1.]),\n",
       " array([-2.39139331e-17, -4.55859349e-17,  2.39139331e-17,  1.94300706e-17,\n",
       "        -1.58279901e-04, -1.19569665e-16, -1.49462082e-17,  5.97848326e-17,\n",
       "         1.49462082e-18, -2.69031747e-17]),\n",
       " array([1.        , 1.        , 1.        , 1.        , 0.99998112,\n",
       "        1.        , 1.        , 1.        , 1.        , 1.        ]))"
      ]
     },
     "execution_count": 40,
     "metadata": {},
     "output_type": "execute_result"
    }
   ],
   "source": [
    "x_train_scaled = train_scaler.transform(x_train)\n",
    "x_test_scaled = vali_scaler.transform(x_test)\n",
    "\n",
    "x_train_scaled.mean(axis=0), x_train_scaled.std(axis=0),  x_test_scaled.mean(axis=0), x_test_scaled.std(axis=0)"
   ]
  },
  {
   "cell_type": "code",
   "execution_count": 41,
   "id": "8853defd",
   "metadata": {},
   "outputs": [],
   "source": [
    "from sklearn.model_selection import train_test_split\n",
    "from sklearn.metrics import roc_auc_score #使用roc_auc 作为 metric\n",
    "\n",
    "#用train_test_split分成learn和valid\n",
    "x_learn, x_valid, y_learn, y_valid = train_test_split(x_train_scaled, y_train, random_state=7) \n",
    "\n",
    "comparison = [] "
   ]
  },
  {
   "cell_type": "code",
   "execution_count": 42,
   "id": "5f9e31fe",
   "metadata": {},
   "outputs": [
    {
     "name": "stdout",
     "output_type": "stream",
     "text": [
      "newton-cg 0.8470606751004257\n",
      "lbfgs 0.8470681695545297\n",
      "liblinear 0.8446249775166377\n",
      "\n",
      "lbfgs 0.8470681695545297\n"
     ]
    }
   ],
   "source": [
    "#逻辑回归\n",
    "from sklearn.linear_model import LogisticRegressionCV\n",
    "\n",
    "arg, maxauc = 'none', 0\n",
    "for s in ['newton-cg', 'lbfgs', 'liblinear']: #测试不同solver效果\n",
    "    model = LogisticRegressionCV(scoring='roc_auc', solver=s) #使用roc_auc作为metric\n",
    "    model.fit(x_learn, y_learn)\n",
    "    y_pred = model.predict_proba(x_valid)[:,1]\n",
    "    score = roc_auc_score(y_valid, y_pred)\n",
    "    print(s, score)\n",
    "    if score > maxauc:\n",
    "        arg, maxauc = s, score\n",
    "print()\n",
    "print(arg, maxauc)\n",
    "comparison.append(['LogisticRegressionCV_'+arg,maxauc])"
   ]
  },
  {
   "cell_type": "code",
   "execution_count": 43,
   "id": "3deea985",
   "metadata": {},
   "outputs": [
    {
     "name": "stdout",
     "output_type": "stream",
     "text": [
      "<itertools.product object at 0x00000213D6620980>\n",
      "*******\n",
      "uniform auto 0.6884667845794112\n",
      "uniform ball_tree 0.6884667845794112\n",
      "uniform kd_tree 0.6884667845794112\n",
      "uniform brute 0.6884667845794112\n",
      "distance auto 0.6879983811979135\n",
      "distance ball_tree 0.6879983811979135\n",
      "distance kd_tree 0.6879983811979135\n",
      "distance brute 0.6879983811979135\n",
      "\n",
      "uniform auto 0.6884667845794112\n"
     ]
    }
   ],
   "source": [
    "#KNN\n",
    "from sklearn.neighbors import KNeighborsClassifier\n",
    "import itertools\n",
    " \n",
    "arglist = itertools.product(['uniform', 'distance'],['auto', 'ball_tree', 'kd_tree', 'brute']) #尝试每种weight/algorithm组合\n",
    "print(arglist,end='\\n*******\\n')\n",
    "\n",
    "weight, algorithm, maxauc = '', '', 0\n",
    "for wei, algo in arglist:\n",
    "    knn = KNeighborsClassifier(weights=wei, algorithm=algo)\n",
    "    knn.fit(x_learn, y_learn)\n",
    "    y_pred = knn.predict_proba(x_valid)[:,1]\n",
    "    score = roc_auc_score(y_valid, y_pred)\n",
    "    print(wei, algo, score)\n",
    "    if score > maxauc:\n",
    "        weight, algorithm, maxauc = wei, algo, score\n",
    "print()\n",
    "print(weight, algorithm, maxauc)\n"
   ]
  },
  {
   "cell_type": "code",
   "execution_count": 44,
   "id": "02a5c9bb",
   "metadata": {},
   "outputs": [
    {
     "name": "stdout",
     "output_type": "stream",
     "text": [
      "100 0.8323453144672943\n",
      "200 0.8536220696684454\n",
      "300 0.8505081239882487\n",
      "400 0.8466934468493315\n",
      "500 0.8409489477786437\n",
      "600 0.8361112776545356\n",
      "700 0.8363698363211224\n",
      "800 0.8398585047065172\n",
      "900 0.8384383056538163\n",
      "1000 0.837857485460759\n",
      "\n",
      "200 0.8536220696684454\n"
     ]
    }
   ],
   "source": [
    "scorelist = []\n",
    "n_neighbors, maxauc = -1, 0\n",
    "for k in range(100, 1000+1, 100):\n",
    "    knn = KNeighborsClassifier(n_neighbors=k, weights=weight, algorithm=algorithm) #以distance brute调整n_neighbors数量\n",
    "    knn.fit(x_learn, y_learn)\n",
    "    y_pred = knn.predict_proba(x_valid)[:,1]\n",
    "    score = roc_auc_score(y_valid, y_pred)\n",
    "    print(k, score)\n",
    "    \n",
    "    if score > maxauc:\n",
    "        n_neighbors, maxauc = k, score\n",
    "    scorelist.append(score)\n",
    "print()\n",
    "print(n_neighbors, maxauc)"
   ]
  },
  {
   "cell_type": "code",
   "execution_count": 45,
   "id": "d66e6dc9",
   "metadata": {},
   "outputs": [
    {
     "data": {
      "text/plain": [
       "Text(0, 0.5, 'score(AUC)')"
      ]
     },
     "execution_count": 45,
     "metadata": {},
     "output_type": "execute_result"
    },
    {
     "data": {
      "image/png": "[encoded data removed]",
      "text/plain": [
       "<Figure size 432x288 with 1 Axes>"
      ]
     },
     "metadata": {
      "needs_background": "light"
     },
     "output_type": "display_data"
    }
   ],
   "source": [
    "#不同n-neighbors score可视化\n",
    "\n",
    "plt.plot(range(100, 1000+1, 100), scorelist)\n",
    "plt.title('score - n_neighbors')\n",
    "plt.xlabel('n_neighbors')\n",
    "plt.ylabel('score(AUC)')\n",
    "\n",
    "#可以看到在k=300左右时auc得最大值"
   ]
  },
  {
   "cell_type": "code",
   "execution_count": 48,
   "id": "ad93fe4c",
   "metadata": {},
   "outputs": [
    {
     "name": "stdout",
     "output_type": "stream",
     "text": [
      "150 0.8404618082618861\n",
      "160 0.8436132262126027\n",
      "170 0.847615264704119\n",
      "180 0.8493577252832905\n",
      "190 0.8507441992925234\n",
      "200 0.8536220696684454\n",
      "210 0.8521044427123928\n",
      "220 0.856529917860783\n",
      "230 0.8575978775705977\n",
      "240 0.8539405839678638\n",
      "250 0.8532173691468313\n",
      "260 0.8533410276395467\n",
      "270 0.8521119371664968\n",
      "280 0.8495638227711494\n",
      "290 0.851257569398645\n",
      "300 0.8505081239882487\n",
      "\n",
      "230 0.8575978775705977\n"
     ]
    }
   ],
   "source": [
    "#接下来减小step来继续缩小k的范围\n",
    "scorelist = []\n",
    "n_neighbors, maxauc = -1, 0\n",
    "for k in range(150, 300+1, 10):\n",
    "    knn = KNeighborsClassifier(n_neighbors=k, weights=weight, algorithm=algorithm)\n",
    "    knn.fit(x_learn, y_learn)\n",
    "    y_pred = knn.predict_proba(x_valid)[:,1]\n",
    "    score = roc_auc_score(y_valid, y_pred)\n",
    "    print(k, score)\n",
    "    if score > maxauc:\n",
    "        n_neighbors, maxauc = k, score\n",
    "    scorelist.append(score)\n",
    "print()\n",
    "print(n_neighbors, maxauc)\n",
    "comparison.append(['KNN_{}_{}_{}'.format(weight,algorithm,n_neighbors),maxauc])\n",
    "\n",
    "#可以看到在k取260的时候score达到最佳"
   ]
  },
  {
   "cell_type": "code",
   "execution_count": 49,
   "id": "ba34a870",
   "metadata": {},
   "outputs": [
    {
     "name": "stdout",
     "output_type": "stream",
     "text": [
      "0.8347210564182505\n"
     ]
    }
   ],
   "source": [
    "#朴素贝叶斯\n",
    "from sklearn.naive_bayes import GaussianNB\n",
    "\n",
    "gaussian = GaussianNB()\n",
    "gaussian.fit(x_learn, y_learn)\n",
    "y_pred = gaussian.predict_proba(x_valid)[:,1]\n",
    "score = roc_auc_score(y_valid, y_pred)\n",
    "print(score)\n",
    "\n",
    "comparison.append(['GaussianNB',score])"
   ]
  },
  {
   "cell_type": "code",
   "execution_count": 50,
   "id": "861b2c4b",
   "metadata": {},
   "outputs": [
    {
     "name": "stdout",
     "output_type": "stream",
     "text": [
      "Fitting 5 folds for each of 2 candidates, totalling 10 fits\n",
      "[CV 1/5] END ....................criterion=gini;, score=0.599 total time=   0.0s\n",
      "[CV 2/5] END ....................criterion=gini;, score=0.627 total time=   0.0s\n",
      "[CV 3/5] END ....................criterion=gini;, score=0.601 total time=   0.0s\n",
      "[CV 4/5] END ....................criterion=gini;, score=0.578 total time=   0.0s\n",
      "[CV 5/5] END ....................criterion=gini;, score=0.563 total time=   0.0s\n",
      "[CV 1/5] END .................criterion=entropy;, score=0.612 total time=   0.0s\n",
      "[CV 2/5] END .................criterion=entropy;, score=0.589 total time=   0.0s\n",
      "[CV 3/5] END .................criterion=entropy;, score=0.587 total time=   0.0s\n",
      "[CV 4/5] END .................criterion=entropy;, score=0.543 total time=   0.0s\n",
      "[CV 5/5] END .................criterion=entropy;, score=0.592 total time=   0.0s\n",
      "mean_fit_time [0.01260738 0.00927129]\n",
      "std_fit_time [0.00080833 0.00666286]\n",
      "mean_score_time [0.00100026 0.00353975]\n",
      "std_score_time [1.90734863e-07 6.06066266e-03]\n",
      "param_criterion ['gini' 'entropy']\n",
      "params [{'criterion': 'gini'}, {'criterion': 'entropy'}]\n",
      "split0_test_score [0.59885204 0.61181973]\n",
      "split1_test_score [0.62691327 0.58907313]\n",
      "split2_test_score [0.60073761 0.58734068]\n",
      "split3_test_score [0.57841374 0.54333151]\n",
      "split4_test_score [0.56289911 0.5922334 ]\n",
      "mean_test_score [0.59356315 0.58475969]\n",
      "std_test_score [0.0217323  0.02249295]\n",
      "rank_test_score [1 2]\n",
      "gini\n",
      "0.6031761496492595\n"
     ]
    }
   ],
   "source": [
    "#决策树\n",
    "from sklearn.tree import DecisionTreeClassifier\n",
    "from sklearn.model_selection import GridSearchCV\n",
    "\n",
    "grid = GridSearchCV(\n",
    "    estimator=DecisionTreeClassifier(),\n",
    "    param_grid={\n",
    "        'criterion':['gini','entropy']\n",
    "    },\n",
    "    scoring='roc_auc',\n",
    "    verbose=3\n",
    ")\n",
    "grid.fit(x_learn, y_learn)\n",
    "\n",
    "for result in grid.cv_results_:\n",
    "    print(result, grid.cv_results_[result])\n",
    "print (grid.best_params_['criterion']) #寻找最佳param\n",
    "\n",
    "tree = DecisionTreeClassifier(criterion=grid.best_params_['criterion'])\n",
    "tree.fit(x_learn, y_learn)\n",
    "y_pred = tree.predict_proba(x_valid)[:,1]\n",
    "score = roc_auc_score(y_valid, y_pred)\n",
    "print(score)\n",
    "comparison.append(['DecisionTreeClassifier_{}'.format(grid.best_params_['criterion']),score])"
   ]
  },
  {
   "cell_type": "code",
   "execution_count": 51,
   "id": "83d17b8c",
   "metadata": {},
   "outputs": [
    {
     "name": "stdout",
     "output_type": "stream",
     "text": [
      "Fitting 5 folds for each of 5 candidates, totalling 25 fits\n",
      "[CV 1/5] END ...................n_estimators=30;, score=0.764 total time=   0.0s\n",
      "[CV 2/5] END ...................n_estimators=30;, score=0.759 total time=   0.0s\n",
      "[CV 3/5] END ...................n_estimators=30;, score=0.819 total time=   0.0s\n",
      "[CV 4/5] END ...................n_estimators=30;, score=0.767 total time=   0.0s\n",
      "[CV 5/5] END ...................n_estimators=30;, score=0.765 total time=   0.0s\n",
      "[CV 1/5] END ...................n_estimators=50;, score=0.805 total time=   0.1s\n",
      "[CV 2/5] END ...................n_estimators=50;, score=0.800 total time=   0.1s\n",
      "[CV 3/5] END ...................n_estimators=50;, score=0.805 total time=   0.1s\n",
      "[CV 4/5] END ...................n_estimators=50;, score=0.783 total time=   0.1s\n",
      "[CV 5/5] END ...................n_estimators=50;, score=0.751 total time=   0.1s\n",
      "[CV 1/5] END ...................n_estimators=80;, score=0.787 total time=   0.1s\n",
      "[CV 2/5] END ...................n_estimators=80;, score=0.813 total time=   0.2s\n",
      "[CV 3/5] END ...................n_estimators=80;, score=0.808 total time=   0.1s\n",
      "[CV 4/5] END ...................n_estimators=80;, score=0.808 total time=   0.1s\n",
      "[CV 5/5] END ...................n_estimators=80;, score=0.771 total time=   0.1s\n",
      "[CV 1/5] END ..................n_estimators=100;, score=0.795 total time=   0.2s\n",
      "[CV 2/5] END ..................n_estimators=100;, score=0.814 total time=   0.2s\n",
      "[CV 3/5] END ..................n_estimators=100;, score=0.831 total time=   0.2s\n",
      "[CV 4/5] END ..................n_estimators=100;, score=0.786 total time=   0.2s\n",
      "[CV 5/5] END ..................n_estimators=100;, score=0.769 total time=   0.2s\n",
      "[CV 1/5] END ..................n_estimators=200;, score=0.798 total time=   0.5s\n",
      "[CV 2/5] END ..................n_estimators=200;, score=0.786 total time=   0.5s\n",
      "[CV 3/5] END ..................n_estimators=200;, score=0.837 total time=   0.5s\n",
      "[CV 4/5] END ..................n_estimators=200;, score=0.824 total time=   0.5s\n",
      "[CV 5/5] END ..................n_estimators=200;, score=0.753 total time=   0.5s\n",
      "mean_fit_time [0.09177146 0.15133176 0.23659759 0.29223099 0.59123383]\n",
      "std_fit_time [0.00646214 0.0022869  0.00413911 0.0014215  0.00964392]\n",
      "mean_score_time [0.00412531 0.00740166 0.01080217 0.01332784 0.02555175]\n",
      "std_score_time [0.00606763 0.00048992 0.00040002 0.00036638 0.00040052]\n",
      "param_n_estimators [30 50 80 100 200]\n",
      "params [{'n_estimators': 30}, {'n_estimators': 50}, {'n_estimators': 80}, {'n_estimators': 100}, {'n_estimators': 200}]\n",
      "split0_test_score [0.76392432 0.80470079 0.7867905  0.79482887 0.79820366]\n",
      "split1_test_score [0.75936703 0.80032951 0.81333705 0.8142804  0.78641847]\n",
      "split2_test_score [0.81946725 0.80453254 0.80835093 0.83114395 0.83719082]\n",
      "split3_test_score [0.76743034 0.78349884 0.80767326 0.78617041 0.82413272]\n",
      "split4_test_score [0.76531237 0.75130375 0.77127235 0.76877129 0.75313963]\n",
      "mean_test_score [0.77510026 0.78887308 0.79748482 0.79903898 0.79981706]\n",
      "std_test_score [0.02234053 0.02033382 0.01596641 0.02173701 0.02949222]\n",
      "rank_test_score [5 4 3 2 1]\n",
      "200\n",
      "0.8283432759757778\n"
     ]
    }
   ],
   "source": [
    "#随机森林\n",
    "from sklearn.ensemble import RandomForestClassifier\n",
    "\n",
    "grid = GridSearchCV(\n",
    "    estimator=RandomForestClassifier(),\n",
    "    param_grid={\n",
    "        'n_estimators':[30,50,80,100,200]\n",
    "    },\n",
    "    scoring='roc_auc',\n",
    "    verbose=3\n",
    ")\n",
    "\n",
    "grid.fit(x_learn, y_learn)\n",
    "for result in grid.cv_results_:\n",
    "    print(result, grid.cv_results_[result])\n",
    "print(grid.best_params_['n_estimators'])\n",
    "\n",
    "rfc = RandomForestClassifier(n_estimators=grid.best_params_['n_estimators'])\n",
    "rfc.fit(x_learn, y_learn)\n",
    "y_pred = rfc.predict_proba(x_valid)[:,1]\n",
    "score = roc_auc_score(y_valid, y_pred)\n",
    "print(score)\n",
    "\n",
    "comparison.append(['RandomForestClassifier_{}'.format(grid.best_params_['n_estimators']),score])"
   ]
  },
  {
   "cell_type": "code",
   "execution_count": 52,
   "id": "f01ff373",
   "metadata": {},
   "outputs": [
    {
     "data": {
      "text/plain": [
       "[['LogisticRegressionCV_lbfgs', 0.8470681695545297],\n",
       " ['KNN_uniform_auto_260', 0.8533410276395467],\n",
       " ['KNN_uniform_auto_230', 0.8575978775705977],\n",
       " ['KNN_uniform_auto_230', 0.8575978775705977],\n",
       " ['GaussianNB', 0.8347210564182505],\n",
       " ['DecisionTreeClassifier_gini', 0.6031761496492595],\n",
       " ['RandomForestClassifier_200', 0.8283432759757778]]"
      ]
     },
     "execution_count": 52,
     "metadata": {},
     "output_type": "execute_result"
    }
   ],
   "source": [
    "comparison #比较不同模型,可以看出在KNN在该数据集表现得最好，且在n-neighbors=230是最好的表现"
   ]
  },
  {
   "cell_type": "code",
   "execution_count": 53,
   "id": "76c100cc",
   "metadata": {},
   "outputs": [
    {
     "name": "stdout",
     "output_type": "stream",
     "text": [
      "Fitting 5 folds for each of 10 candidates, totalling 50 fits\n",
      "[CV 1/5] END ..criterion=gini, n_estimators=180;, score=0.774 total time=   0.5s\n",
      "[CV 2/5] END ..criterion=gini, n_estimators=180;, score=0.807 total time=   0.5s\n",
      "[CV 3/5] END ..criterion=gini, n_estimators=180;, score=0.822 total time=   0.5s\n",
      "[CV 4/5] END ..criterion=gini, n_estimators=180;, score=0.786 total time=   0.5s\n",
      "[CV 5/5] END ..criterion=gini, n_estimators=180;, score=0.779 total time=   0.5s\n",
      "[CV 1/5] END ..criterion=gini, n_estimators=190;, score=0.783 total time=   0.5s\n",
      "[CV 2/5] END ..criterion=gini, n_estimators=190;, score=0.802 total time=   0.5s\n",
      "[CV 3/5] END ..criterion=gini, n_estimators=190;, score=0.838 total time=   0.5s\n",
      "[CV 4/5] END ..criterion=gini, n_estimators=190;, score=0.803 total time=   0.5s\n",
      "[CV 5/5] END ..criterion=gini, n_estimators=190;, score=0.779 total time=   0.5s\n",
      "[CV 1/5] END ..criterion=gini, n_estimators=200;, score=0.796 total time=   0.5s\n",
      "[CV 2/5] END ..criterion=gini, n_estimators=200;, score=0.813 total time=   0.5s\n",
      "[CV 3/5] END ..criterion=gini, n_estimators=200;, score=0.832 total time=   0.5s\n",
      "[CV 4/5] END ..criterion=gini, n_estimators=200;, score=0.798 total time=   0.6s\n",
      "[CV 5/5] END ..criterion=gini, n_estimators=200;, score=0.763 total time=   0.5s\n",
      "[CV 1/5] END ..criterion=gini, n_estimators=210;, score=0.806 total time=   0.5s\n",
      "[CV 2/5] END ..criterion=gini, n_estimators=210;, score=0.797 total time=   0.6s\n",
      "[CV 3/5] END ..criterion=gini, n_estimators=210;, score=0.826 total time=   0.5s\n",
      "[CV 4/5] END ..criterion=gini, n_estimators=210;, score=0.808 total time=   0.6s\n",
      "[CV 5/5] END ..criterion=gini, n_estimators=210;, score=0.776 total time=   0.6s\n",
      "[CV 1/5] END ..criterion=gini, n_estimators=220;, score=0.807 total time=   0.6s\n",
      "[CV 2/5] END ..criterion=gini, n_estimators=220;, score=0.796 total time=   0.6s\n",
      "[CV 3/5] END ..criterion=gini, n_estimators=220;, score=0.824 total time=   0.6s\n",
      "[CV 4/5] END ..criterion=gini, n_estimators=220;, score=0.802 total time=   0.6s\n",
      "[CV 5/5] END ..criterion=gini, n_estimators=220;, score=0.771 total time=   0.6s\n",
      "[CV 1/5] END criterion=entropy, n_estimators=180;, score=0.811 total time=   0.5s\n",
      "[CV 2/5] END criterion=entropy, n_estimators=180;, score=0.797 total time=   0.5s\n",
      "[CV 3/5] END criterion=entropy, n_estimators=180;, score=0.828 total time=   0.5s\n",
      "[CV 4/5] END criterion=entropy, n_estimators=180;, score=0.803 total time=   0.6s\n",
      "[CV 5/5] END criterion=entropy, n_estimators=180;, score=0.794 total time=   0.5s\n",
      "[CV 1/5] END criterion=entropy, n_estimators=190;, score=0.814 total time=   0.6s\n",
      "[CV 2/5] END criterion=entropy, n_estimators=190;, score=0.798 total time=   0.6s\n",
      "[CV 3/5] END criterion=entropy, n_estimators=190;, score=0.814 total time=   0.6s\n",
      "[CV 4/5] END criterion=entropy, n_estimators=190;, score=0.818 total time=   0.6s\n",
      "[CV 5/5] END criterion=entropy, n_estimators=190;, score=0.773 total time=   0.6s\n",
      "[CV 1/5] END criterion=entropy, n_estimators=200;, score=0.805 total time=   0.6s\n",
      "[CV 2/5] END criterion=entropy, n_estimators=200;, score=0.826 total time=   0.6s\n",
      "[CV 3/5] END criterion=entropy, n_estimators=200;, score=0.826 total time=   0.6s\n",
      "[CV 4/5] END criterion=entropy, n_estimators=200;, score=0.811 total time=   0.6s\n",
      "[CV 5/5] END criterion=entropy, n_estimators=200;, score=0.782 total time=   0.6s\n",
      "[CV 1/5] END criterion=entropy, n_estimators=210;, score=0.805 total time=   0.6s\n",
      "[CV 2/5] END criterion=entropy, n_estimators=210;, score=0.809 total time=   0.7s\n",
      "[CV 3/5] END criterion=entropy, n_estimators=210;, score=0.833 total time=   0.6s\n",
      "[CV 4/5] END criterion=entropy, n_estimators=210;, score=0.814 total time=   0.7s\n",
      "[CV 5/5] END criterion=entropy, n_estimators=210;, score=0.784 total time=   0.6s\n",
      "[CV 1/5] END criterion=entropy, n_estimators=220;, score=0.804 total time=   0.7s\n",
      "[CV 2/5] END criterion=entropy, n_estimators=220;, score=0.809 total time=   0.7s\n",
      "[CV 3/5] END criterion=entropy, n_estimators=220;, score=0.832 total time=   0.7s\n",
      "[CV 4/5] END criterion=entropy, n_estimators=220;, score=0.824 total time=   0.7s\n",
      "[CV 5/5] END criterion=entropy, n_estimators=220;, score=0.768 total time=   0.7s\n",
      "mean_fit_time [0.54684181 0.56804566 0.604496   0.63362284 0.65057669 0.61479192\n",
      " 0.66133585 0.68480449 0.72184968 0.76062098]\n",
      "std_fit_time [0.01071236 0.01118922 0.02537994 0.01931205 0.01284345 0.01770577\n",
      " 0.03249728 0.01343567 0.01073152 0.01220862]\n",
      "mean_score_time [0.0253089  0.02412124 0.02600589 0.02680612 0.02753692 0.0230051\n",
      " 0.02396421 0.02617469 0.02600565 0.02760653]\n",
      "std_score_time [4.12655099e-03 6.73541616e-04 4.67203091e-07 4.00066717e-04\n",
      " 4.00296073e-04 6.32635936e-04 3.80604430e-04 3.05163100e-03\n",
      " 1.90734863e-07 4.89532611e-04]\n",
      "param_criterion ['gini' 'gini' 'gini' 'gini' 'gini' 'entropy' 'entropy' 'entropy'\n",
      " 'entropy' 'entropy']\n",
      "param_n_estimators [180 190 200 210 220 180 190 200 210 220]\n",
      "params [{'criterion': 'gini', 'n_estimators': 180}, {'criterion': 'gini', 'n_estimators': 190}, {'criterion': 'gini', 'n_estimators': 200}, {'criterion': 'gini', 'n_estimators': 210}, {'criterion': 'gini', 'n_estimators': 220}, {'criterion': 'entropy', 'n_estimators': 180}, {'criterion': 'entropy', 'n_estimators': 190}, {'criterion': 'entropy', 'n_estimators': 200}, {'criterion': 'entropy', 'n_estimators': 210}, {'criterion': 'entropy', 'n_estimators': 220}]\n",
      "split0_test_score [0.77368994 0.78284439 0.7962771  0.80588329 0.80733153 0.81067974\n",
      " 0.81409439 0.80504624 0.80520568 0.803505  ]\n",
      "split1_test_score [0.80685321 0.80157844 0.81349649 0.7970743  0.79629039 0.79698129\n",
      " 0.79772534 0.82622502 0.80907207 0.80899235]\n",
      "split2_test_score [0.82157844 0.8380379  0.8316913  0.82604843 0.82358537 0.82819871\n",
      " 0.81442385 0.82556624 0.83292934 0.83179555]\n",
      "split3_test_score [0.78619647 0.80272109 0.79812078 0.80805119 0.80173065 0.80326843\n",
      " 0.8179816  0.81086611 0.81355071 0.82355931]\n",
      "split4_test_score [0.77912143 0.77921456 0.76299755 0.77624787 0.77099298 0.79354246\n",
      " 0.77349404 0.7820083  0.78405705 0.76772031]\n",
      "mean_test_score [0.7934879  0.80087928 0.80051665 0.80266102 0.79998618 0.80653413\n",
      " 0.80354384 0.80994238 0.80896297 0.8071145 ]\n",
      "std_test_score [0.01799572 0.02087708 0.0226792  0.01621896 0.01713583 0.01230646\n",
      " 0.01658302 0.01621338 0.01568355 0.0221271 ]\n",
      "rank_test_score [10  7  8  6  9  4  5  1  2  3]\n"
     ]
    }
   ],
   "source": [
    "#可以看出随机森林在该数据集的表现也很好，达到了0.828，与KNN模型最好的值相差不多，因此对该模型进行更细致的调参\n",
    "#对该模型进行更细致的调参（n_estimators 和 criterion）\n",
    "\n",
    "grid = GridSearchCV(\n",
    "    estimator=RandomForestClassifier(),\n",
    "    param_grid={\n",
    "        'n_estimators':np.arange(180, 230, 10),\n",
    "        'criterion':['gini', 'entropy']\n",
    "    },\n",
    "    scoring='roc_auc',\n",
    "    verbose=3\n",
    ")\n",
    "\n",
    "grid.fit(x_learn, y_learn)\n",
    "for result in grid.cv_results_:\n",
    "    print(result, grid.cv_results_[result])"
   ]
  },
  {
   "cell_type": "code",
   "execution_count": 54,
   "id": "bfee8f01",
   "metadata": {},
   "outputs": [
    {
     "name": "stdout",
     "output_type": "stream",
     "text": [
      "0.8467234246657473\n"
     ]
    }
   ],
   "source": [
    "rfc = RandomForestClassifier(n_estimators=grid.best_params_['n_estimators'],\n",
    "                         criterion=grid.best_params_['criterion'])\n",
    "rfc.fit(x_learn, y_learn)\n",
    "y_pred = rfc.predict_proba(x_valid)[:,1]\n",
    "score = roc_auc_score(y_valid, y_pred)\n",
    "print(score)"
   ]
  },
  {
   "cell_type": "code",
   "execution_count": null,
   "id": "c93a8361",
   "metadata": {},
   "outputs": [],
   "source": []
  }
 ],
 "metadata": {
  "kernelspec": {
   "display_name": "Python 3 (ipykernel)",
   "language": "python",
   "name": "python3"
  },
  "language_info": {
   "codemirror_mode": {
    "name": "ipython",
    "version": 3
   },
   "file_extension": ".py",
   "mimetype": "text/x-python",
   "name": "python",
   "nbconvert_exporter": "python",
   "pygments_lexer": "ipython3",
   "version": "3.9.12"
  }
 },
 "nbformat": 4,
 "nbformat_minor": 5
}
